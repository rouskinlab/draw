{
 "cells": [
  {
   "cell_type": "code",
   "execution_count": 1,
   "metadata": {},
   "outputs": [],
   "source": [
    "# conda activate seismic-graph\n",
    "import os, json, sys\n",
    "sys.path.append(os.path.abspath(os.path.join('..')))\n",
    "import pandas as pd\n",
    "\n",
    "from seismic_graph import Study\n",
    "from seismic_graph.format_conversion.seismic_format import SEISMICdata\n",
    "import subprocess\n"
   ]
  },
  {
   "cell_type": "code",
   "execution_count": 2,
   "metadata": {},
   "outputs": [],
   "source": [
    "data = []\n",
    "folder = \"/Users/casper/Documents/data/webapp-paper/jsons\"\n",
    "\n",
    "for filename in os.listdir(folder):\n",
    "    file_path = os.path.join(folder, filename)\n",
    "\n",
    "    if os.path.isfile(file_path) and filename.endswith('.json'):\n",
    "        with open(file_path, 'r') as file:\n",
    "            json_data = json.load(file)\n",
    "            data.append(json_data)\n",
    "\n",
    "\n",
    "study = Study(data=data)"
   ]
  },
  {
   "cell_type": "code",
   "execution_count": 3,
   "metadata": {},
   "outputs": [
    {
     "name": "stdout",
     "output_type": "stream",
     "text": [
      "Saved HTML for sample 'P2_S4_L001' and reference 'Arabidopsis_thaliana_0' to '/Users/casper/Documents/data/webapp-paper/html_one_pagers/P2_S4_L001_Arabidopsis_thaliana_0.html'\n",
      "Saved HTML for sample 'P2_S4_L001' and reference 'C__elegans_0' to '/Users/casper/Documents/data/webapp-paper/html_one_pagers/P2_S4_L001_C__elegans_0.html'\n",
      "Saved HTML for sample 'P2_S4_L001' and reference 'Drosophila_melanogaster_0' to '/Users/casper/Documents/data/webapp-paper/html_one_pagers/P2_S4_L001_Drosophila_melanogaster_0.html'\n",
      "Saved HTML for sample 'P2_S4_L001' and reference 'Drosophila_melanogaster_1' to '/Users/casper/Documents/data/webapp-paper/html_one_pagers/P2_S4_L001_Drosophila_melanogaster_1.html'\n",
      "Saved HTML for sample 'P2_S4_L001' and reference 'Drosophila_melanogaster_2' to '/Users/casper/Documents/data/webapp-paper/html_one_pagers/P2_S4_L001_Drosophila_melanogaster_2.html'\n"
     ]
    }
   ],
   "source": [
    "output_dir = '/Users/casper/Documents/data/webapp-paper/html_one_pagers/'\n",
    "\n",
    "\n",
    "if not os.path.exists(output_dir):\n",
    "    os.makedirs(output_dir)\n",
    "\n",
    "counter = 0\n",
    "\n",
    "for idx, row in study.df.iterrows():\n",
    "    sample = row['sample']\n",
    "    reference = row['reference']\n",
    "\n",
    "    html = study.one_pager(\n",
    "        sample=sample,\n",
    "        reference=reference,\n",
    "        normalize=False,\n",
    "        show_ci=True\n",
    "    )['html']\n",
    "\n",
    "    file_name = f\"{sample}_{reference}.html\"\n",
    "    file_path = os.path.join(output_dir, file_name)\n",
    "\n",
    "    with open(file_path, 'w') as f:\n",
    "        f.write(html)\n",
    "\n",
    "    print(f\"Saved HTML for sample '{sample}' and reference '{reference}' to '{file_path}'\")\n",
    "    \n",
    "    counter += 1\n",
    "    if counter >= 5:\n",
    "        break"
   ]
  },
  {
   "cell_type": "code",
   "execution_count": 4,
   "metadata": {},
   "outputs": [
    {
     "name": "stdout",
     "output_type": "stream",
     "text": [
      "Generating PDF for: P2_S4_L001_Arabidopsis_thaliana_0.html\n",
      "PDF saved: /Users/casper/Documents/data/webapp-paper/pdf_one_pagers/P2_S4_L001_Arabidopsis_thaliana_0.pdf\n",
      "Generating PDF for: P2_S4_L001_C__elegans_0.html\n",
      "PDF saved: /Users/casper/Documents/data/webapp-paper/pdf_one_pagers/P2_S4_L001_C__elegans_0.pdf\n",
      "Generating PDF for: P2_S4_L001_Drosophila_melanogaster_0.html\n",
      "PDF saved: /Users/casper/Documents/data/webapp-paper/pdf_one_pagers/P2_S4_L001_Drosophila_melanogaster_0.pdf\n",
      "Generating PDF for: P2_S4_L001_Drosophila_melanogaster_1.html\n",
      "PDF saved: /Users/casper/Documents/data/webapp-paper/pdf_one_pagers/P2_S4_L001_Drosophila_melanogaster_1.pdf\n",
      "Generating PDF for: P2_S4_L001_Drosophila_melanogaster_2.html\n",
      "PDF saved: /Users/casper/Documents/data/webapp-paper/pdf_one_pagers/P2_S4_L001_Drosophila_melanogaster_2.pdf\n"
     ]
    },
    {
     "data": {
      "text/plain": [
       "CompletedProcess(args=['node', '/Users/casper/Documents/code/draw/automate_one_pager/generate_pdfs.js'], returncode=0)"
      ]
     },
     "execution_count": 4,
     "metadata": {},
     "output_type": "execute_result"
    }
   ],
   "source": [
    "node_script = '/Users/casper/Documents/code/draw/automate_one_pager/generate_pdfs.js'\n",
    "\n",
    "subprocess.run(['node', node_script])"
   ]
  }
 ],
 "metadata": {
  "kernelspec": {
   "display_name": "da5",
   "language": "python",
   "name": "python3"
  },
  "language_info": {
   "codemirror_mode": {
    "name": "ipython",
    "version": 3
   },
   "file_extension": ".py",
   "mimetype": "text/x-python",
   "name": "python",
   "nbconvert_exporter": "python",
   "pygments_lexer": "ipython3",
   "version": "3.10.13"
  }
 },
 "nbformat": 4,
 "nbformat_minor": 2
}
