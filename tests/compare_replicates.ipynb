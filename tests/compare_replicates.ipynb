{
 "cells": [
  {
   "cell_type": "code",
   "execution_count": null,
   "metadata": {},
   "outputs": [],
   "source": [
    "import os, json, sys\n",
    "sys.path.append(os.path.abspath(os.path.join('..')))\n",
    "import pandas as pd\n",
    "\n",
    "from seismic_graph import Study"
   ]
  },
  {
   "cell_type": "code",
   "execution_count": null,
   "metadata": {},
   "outputs": [],
   "source": [
    "data = []\n",
    "\n",
    "paths = [\n",
    "    \"/Users/casper/Documents/data/Adam/Astrophage/Astrophage_Data_P3/out/long-rep1__webapp.json\",\n",
    "    \"/Users/casper/Documents/data/Adam/Astrophage/Astrophage_Data_P3/out/long-rep2__webapp.json\",\n",
    "    \"/Users/casper/Documents/data/Adam/Astrophage/Astrophage_Data_P3/out/short-rep1__webapp.json\",\n",
    "    \"/Users/casper/Documents/data/Adam/Astrophage/Astrophage_Data_P3/out/short-rep2__webapp.json\"\n",
    "]\n",
    "\n",
    "\n",
    "for path in paths:\n",
    "    with open (path, 'r') as file:\n",
    "        json_data = json.load(file) \n",
    "        data.append(json_data)\n",
    "\n",
    "study = Study(data=data)\n",
    "sample, reference, section = study.df.iloc[0][['sample', 'reference', 'section']]\n",
    "df = study.df\n",
    "column_headers = study.df.columns.tolist()\n",
    "print(column_headers)"
   ]
  }
 ],
 "metadata": {
  "kernelspec": {
   "display_name": "seismic-graph",
   "language": "python",
   "name": "python3"
  },
  "language_info": {
   "name": "python",
   "version": "3.10.13"
  }
 },
 "nbformat": 4,
 "nbformat_minor": 2
}
