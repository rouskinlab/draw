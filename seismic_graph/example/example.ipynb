{
 "cells": [
  {
   "cell_type": "code",
   "execution_count": null,
   "metadata": {},
   "outputs": [],
   "source": []
  },
  {
   "cell_type": "markdown",
   "metadata": {},
   "source": [
    "# REMOVE ME"
   ]
  },
  {
   "cell_type": "code",
   "execution_count": 1,
   "metadata": {},
   "outputs": [],
   "source": [
    "import sys\n",
    "path = '/Users/casper/Local/HMS/Code/draw'\n",
    "sys.path.append(path)\n",
    "import seismic_graph"
   ]
  },
  {
   "cell_type": "markdown",
   "metadata": {},
   "source": [
    "## Imports\n"
   ]
  },
  {
   "cell_type": "code",
   "execution_count": 1,
   "metadata": {},
   "outputs": [
    {
     "ename": "NameError",
     "evalue": "name 'Study' is not defined",
     "output_type": "error",
     "traceback": [
      "\u001b[0;31m---------------------------------------------------------------------------\u001b[0m",
      "\u001b[0;31mNameError\u001b[0m                                 Traceback (most recent call last)",
      "Cell \u001b[0;32mIn[1], line 38\u001b[0m\n\u001b[1;32m     34\u001b[0m mpl\u001b[38;5;241m.\u001b[39mrcParams[\u001b[38;5;124m'\u001b[39m\u001b[38;5;124mfigure.dpi\u001b[39m\u001b[38;5;124m'\u001b[39m] \u001b[38;5;241m=\u001b[39m \u001b[38;5;241m100\u001b[39m \u001b[38;5;66;03m# the highest the resolution, the slowest the plotting\u001b[39;00m\n\u001b[1;32m     35\u001b[0m mpl\u001b[38;5;241m.\u001b[39muse(\u001b[38;5;124m'\u001b[39m\u001b[38;5;124magg\u001b[39m\u001b[38;5;124m'\u001b[39m)\n\u001b[0;32m---> 38\u001b[0m study \u001b[38;5;241m=\u001b[39m \u001b[43mStudy\u001b[49m(df\u001b[38;5;241m=\u001b[39m pd\u001b[38;5;241m.\u001b[39mread_csv(\u001b[38;5;124m'\u001b[39m\u001b[38;5;124m/Users/ymdt/src/dreem_nap/analysis/Lauren/lauren.csv\u001b[39m\u001b[38;5;124m'\u001b[39m), \n\u001b[1;32m     39\u001b[0m               min_cov\u001b[38;5;241m=\u001b[39m\u001b[38;5;241m1000\u001b[39m,\n\u001b[1;32m     40\u001b[0m               filter_by\u001b[38;5;241m=\u001b[39m\u001b[38;5;124m'\u001b[39m\u001b[38;5;124mstudy\u001b[39m\u001b[38;5;124m'\u001b[39m)\n\u001b[1;32m     42\u001b[0m study\u001b[38;5;241m.\u001b[39mget_df()\u001b[38;5;241m.\u001b[39mhead()\n",
      "\u001b[0;31mNameError\u001b[0m: name 'Study' is not defined"
     ]
    }
   ],
   "source": [
    "import pandas as pd\n",
    "import matplotlib.pyplot as plt\n",
    "import matplotlib as mpl\n",
    "from matplotlib.colors import LogNorm\n",
    "from os.path import exists, dirname\n",
    "\n",
    "\n",
    "import os, sys\n",
    "\n",
    "import numpy as np\n",
    "import seaborn as sns\n",
    "import json\n",
    "import yaml\n",
    "\n",
    "import pickle\n",
    "from plotly.subplots import make_subplots\n",
    "import plotly.graph_objects as go\n",
    "from plotly.offline import download_plotlyjs, init_notebook_mode, plot, iplot\n",
    "\n",
    "import matplotlib.pyplot as plt\n",
    "from itertools import cycle\n",
    "from typing import Tuple, List\n",
    "import pandas as pd\n",
    "from plotly.subplots import make_subplots\n",
    "import plotly.graph_objects as go\n",
    "from plotly.offline import download_plotlyjs, init_notebook_mode, plot, iplot\n",
    "\n",
    "import scipy\n",
    "from scipy.optimize import curve_fit\n",
    "\n",
    "pd.options.mode.chained_assignment = None  # default='warn'\n",
    "\n",
    "# Config\n",
    "mpl.rcParams['figure.dpi'] = 100 # the highest the resolution, the slowest the plotting\n",
    "mpl.use('agg')\n",
    "\n",
    "\n",
    "study = Study(df= pd.read_csv('/Users/ymdt/src/dreem_nap/analysis/Lauren/lauren.csv'), \n",
    "              min_cov=1000,\n",
    "              filter_by='study')\n",
    "\n",
    "study.get_df().head()\n"
   ]
  },
  {
   "cell_type": "code",
   "execution_count": null,
   "metadata": {},
   "outputs": [],
   "source": [
    "out = study.mutation_fraction(sample=470,\n",
    "                               reference='3576-O-flank_1=bi6-cag-DB',\n",
    "                               base_index=list(range(19,42)), \n",
    "                               base_type=['A','C'])"
   ]
  },
  {
   "cell_type": "code",
   "execution_count": null,
   "metadata": {},
   "outputs": [],
   "source": [
    "out = study.exp_variable_across_samples(\n",
    "                        reference=['3114-O-flank_1=hp7-DB'],\n",
    "                        base_index=list(range(19,42)), \n",
    "                        base_type=['A','C'],\n",
    "                        savefile='test.html', \n",
    "                        experimental_variable='temperature_k',\n",
    "                        models=['lambda x, a, b: a*x + b', 'lambda x, a, b: a*x**2 + b*x'],\n",
    "                        auto_open=False)"
   ]
  },
  {
   "cell_type": "code",
   "execution_count": null,
   "metadata": {},
   "outputs": [],
   "source": [
    "out = study.auc(\n",
    "        sample=[470, 472], \n",
    "        family=['hp7', 'cb8'], \n",
    "        base_type=['A','C'], \n",
    "        base_index=list(range(19,42)),\n",
    "        title='ROC of families hp7 and cb8 for hairpin MS2'\n",
    "        )"
   ]
  },
  {
   "cell_type": "code",
   "execution_count": null,
   "metadata": {},
   "outputs": [],
   "source": [
    "\n",
    "df = study.get_df()\n",
    "df = df[df['sample'] == 470]    \n",
    "df = df[df['reference'] == '3576-O-flank_1=bi6-cag-DB']\n",
    "df1 = df\n",
    "\n",
    "df = study.get_df()\n",
    "df = df[df['sample'] == 472]\n",
    "df = df[df['reference'] == '3576-O-flank_1=bi6-cag-DB']\n",
    "df2 = df\n",
    "\n",
    "df = pd.concat([df1, df2])\n",
    "df\n",
    "\n"
   ]
  },
  {
   "cell_type": "code",
   "execution_count": null,
   "metadata": {},
   "outputs": [],
   "source": [
    "study.mutation_fraction_delta(  \n",
    "                            sample1=470,\n",
    "                            sample2=472,   \n",
    "                            reference1='3576-O-flank_1=bi6-cag-DB',\n",
    "                            reference2='3576-O-flank_1=bi6-cag-DB',\n",
    "                            base_index1=list(range(19,42)),\n",
    "                            base_index2=list(range(19,42)),\n",
    "                            base_type1=['A','C'],\n",
    "                            base_type2=['A','C']\n",
    "                            )"
   ]
  },
  {
   "cell_type": "code",
   "execution_count": null,
   "metadata": {},
   "outputs": [],
   "source": []
  }
 ],
 "metadata": {
  "kernelspec": {
   "display_name": "Python 3 (ipykernel)",
   "language": "python",
   "name": "python3"
  },
  "language_info": {
   "codemirror_mode": {
    "name": "ipython",
    "version": 3
   },
   "file_extension": ".py",
   "mimetype": "text/x-python",
   "name": "python",
   "nbconvert_exporter": "python",
   "pygments_lexer": "ipython3",
   "version": "3.11.6"
  },
  "vscode": {
   "interpreter": {
    "hash": "aee8b7b246df8f9039afb4144a1f6fd8d2ca17a180786b69acc140d282b71a49"
   }
  }
 },
 "nbformat": 4,
 "nbformat_minor": 2
}
