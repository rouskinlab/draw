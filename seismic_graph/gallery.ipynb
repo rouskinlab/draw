{
 "cells": [
  {
   "cell_type": "markdown",
   "metadata": {},
   "source": [
    "# Plot gallery"
   ]
  },
  {
   "cell_type": "markdown",
   "metadata": {},
   "source": [
    "## How to use this notebook\n",
    "\n",
    "We use the test dataset stored [here](https://drive.google.com/file/d/1CTwrjO2dPWqISxcEyCJ1oj_EE1IaDrmI/view?usp=share_link). \n",
    "\n",
    "You shall store the data under the `data` folder, as follow:\n",
    "\n",
    "```\n",
    "/main folder\n",
    "    /data\n",
    "        sample1.json\n",
    "        sample2.json\n",
    "    gallery.ipynb"
   ]
  },
  {
   "cell_type": "markdown",
   "metadata": {},
   "source": [
    "## Imports"
   ]
  },
  {
   "cell_type": "code",
   "execution_count": null,
   "metadata": {},
   "outputs": [],
   "source": [
    "%load_ext autoreload\n",
    "%autoreload 2\n",
    "\n",
    "import os, json, sys\n",
    "sys.path.append(os.path.abspath(os.path.join('..')))\n",
    "import pandas as pd\n",
    "\n",
    "from seismic_graph import Study\n",
    "import seismic_graph\n",
    "\n",
    "\n",
    "data = seismic_graph.load_dataset()\n",
    "\n",
    "study = Study()\n",
    "study.df = data\n",
    "sample, reference, section, family = study.df.iloc[0][['sample', 'reference', 'section', 'family']]\n",
    "\n",
    "path_figs = '.'\n",
    "# remove all html files in path_figs\n",
    "for file in os.listdir(path_figs):\n",
    "    if file.endswith('.html'):\n",
    "        os.remove(os.path.join(path_figs, file))\n",
    "dim = (600, 400)\n",
    "print(\"finished\")\n"
   ]
  },
  {
   "cell_type": "code",
   "execution_count": null,
   "metadata": {},
   "outputs": [],
   "source": [
    "data = study.get_df(\n",
    "        sample = ['65degrees_1_S20_L001','10degrees_1_S10_L001'],        # select one or multiple sample(s)\n",
    "        # reference = ['3042-O-flank_1=hp1-DB',   # select one or multiple reference(s)\n",
    "        #                 '3043-CC-flank_1=hp1-DB'],\n",
    "        section = 'ROI',                        # select one or multiple section(s)\n",
    "        base_type = ['A','C']                   # select one or multiple base type(s)\n",
    "    )[['sample','reference','section','sequence','sub_rate','deltaG','family','num_aligned','DMS_conc_mM']].reset_index(drop=True)"
   ]
  },
  {
   "cell_type": "markdown",
   "metadata": {},
   "source": [
    "## Mutation fraction"
   ]
  },
  {
   "cell_type": "code",
   "execution_count": null,
   "metadata": {},
   "outputs": [],
   "source": [
    "%autoreload 2\n",
    "fig = study.mutation_fraction(\n",
    "    sample = sample,\n",
    "    reference = reference,\n",
    "    section='full',\n",
    "    show_ci = True\n",
    ")['fig']\n",
    "fig.show()"
   ]
  },
  {
   "cell_type": "code",
   "execution_count": null,
   "metadata": {},
   "outputs": [],
   "source": [
    "%reload_ext autoreload\n",
    "fig = study.mutation_fraction_identity(\n",
    "    sample = sample,\n",
    "    reference = reference,\n",
    "    section='full',\n",
    "    show_ci = True\n",
    ")['fig']\n",
    "fig.show()"
   ]
  },
  {
   "cell_type": "markdown",
   "metadata": {},
   "source": [
    "## Mutation fraction delta"
   ]
  },
  {
   "cell_type": "code",
   "execution_count": null,
   "metadata": {},
   "outputs": [],
   "source": [
    "fig = study.mutation_fraction_delta(\n",
    "    sample = ['65degrees_1_S20_L001','5degrees_2_S9_L001'],\n",
    "    reference =  '3042-O-flank_1=hp1-DB',  # select one or multiple reference(s)             \n",
    "    section='full',\n",
    "    normalize = 0\n",
    ")['fig'].show()\n"
   ]
  },
  {
   "cell_type": "markdown",
   "metadata": {},
   "source": [
    "## Aligned reads per reference"
   ]
  },
  {
   "cell_type": "code",
   "execution_count": null,
   "metadata": {},
   "outputs": [],
   "source": [
    "%reload_ext autoreload\n",
    "\n",
    "fig = study.num_aligned_reads_per_reference_frequency_distribution(\n",
    "    sample = sample,\n",
    "    section = 'full'\n",
    ")['fig']\n",
    "\n",
    "fig.show()\n",
    "fig.write_html(os.path.join(path_figs, 'num_aligned_reads_per_reference_frequency_distribution.html'))"
   ]
  },
  {
   "cell_type": "markdown",
   "metadata": {},
   "source": [
    "## Mutations per read per sample"
   ]
  },
  {
   "cell_type": "code",
   "execution_count": null,
   "metadata": {},
   "outputs": [],
   "source": [
    "fig = study.mutations_per_read_per_sample(\n",
    "    sample = sample,\n",
    ")['fig']\n",
    "\n",
    "fig.show()\n",
    "\n",
    "fig.write_html(os.path.join(path_figs, 'mutations_per_read_per_sample.html'))"
   ]
  },
  {
   "cell_type": "code",
   "execution_count": null,
   "metadata": {},
   "outputs": [],
   "source": [
    "study.experimental_variable_across_samples(\n",
    "    experimental_variable = 'temperature_k',\n",
    "    reference = reference,\n",
    "    section = 'ROI',\n",
    "    base_type = ['A','C'],\n",
    "    base_pairing = False,\n",
    "    normalize = 1\n",
    ")['fig'].show()\n",
    "study.experimental_variable_across_samples(\n",
    "    experimental_variable = 'temperature_k',\n",
    "    reference = reference,\n",
    "    section = 'ROI',\n",
    ")['data']"
   ]
  },
  {
   "cell_type": "code",
   "execution_count": null,
   "metadata": {},
   "outputs": [],
   "source": [
    "%reload_ext autoreload\n",
    "%autoreload 2\n",
    "a = study.compare_mutation_profiles(\n",
    "    sample = ['10degrees_2_S11_L001','65degrees_1_S20_L001','45degrees_2_S19_L001','10degrees_1_S10_L001'],\n",
    "    reference = reference,\n",
    "    section = 'full',\n",
    "    pearson_filter_gap = 0.1,\n",
    "    normalize = 0\n",
    ")['fig']\n",
    "a.show()\n",
    "\n",
    "with open(os.path.join(path_figs, 'compare_mutation_profiles.html'), 'w') as f:\n",
    "    f.write(a.to_html(full_html=False, include_plotlyjs='cdn'))"
   ]
  },
  {
   "cell_type": "markdown",
   "metadata": {},
   "source": [
    "## Correlation by refs between samples"
   ]
  },
  {
   "cell_type": "code",
   "execution_count": null,
   "metadata": {},
   "outputs": [],
   "source": [
    "a = study.correlation_by_refs_between_samples(\n",
    "    sample=['10degrees_2_S11_L001','65degrees_1_S20_L001'],\n",
    "    section='full',\n",
    "    base_type=['A','C'],\n",
    "    pearson_filter_gap = 0.1,\n",
    "    normalize = 0\n",
    ")['fig']\n",
    "\n",
    "a.show()"
   ]
  },
  {
   "cell_type": "code",
   "execution_count": null,
   "metadata": {},
   "outputs": [],
   "source": [
    "study.df[['DMS_conc_mM','temperature_k','buffer','cell_line','exp_env','inc_time_tot_secs','sample']].drop_duplicates()"
   ]
  }
 ],
 "metadata": {
  "kernelspec": {
   "display_name": "Python 3 (ipykernel)",
   "language": "python",
   "name": "python3"
  },
  "language_info": {
   "codemirror_mode": {
    "name": "ipython",
    "version": 3
   },
   "file_extension": ".py",
   "mimetype": "text/x-python",
   "name": "python",
   "nbconvert_exporter": "python",
   "pygments_lexer": "ipython3",
   "version": "3.12.0"
  },
  "vscode": {
   "interpreter": {
    "hash": "da229f0528e1c0d1c0b9dd42b2435d18e9f382f2b763d9e722ef981a0e650149"
   }
  }
 },
 "nbformat": 4,
 "nbformat_minor": 2
}
