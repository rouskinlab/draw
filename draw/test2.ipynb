{
 "cells": [
  {
   "cell_type": "code",
   "execution_count": null,
   "metadata": {},
   "outputs": [],
   "source": [
    "import os, json, sys\n",
    "sys.path.append(os.path.abspath(os.path.join('..')))\n",
    "import pandas as pd\n",
    "\n",
    "import draw\n",
    "# import warnings\n",
    "# warnings.filterwarnings('error')"
   ]
  },
  {
   "cell_type": "code",
   "execution_count": null,
   "metadata": {},
   "outputs": [],
   "source": [
    "data = []\n",
    "paths = [\n",
    "    '/Users/casper/Local/HMS/Code/draw/draw/data/15_S15_L001.json',\n",
    "    '/Users/casper/Local/HMS/Code/draw/draw/data/16_S16_L001.json',\n",
    "    '/Users/casper/Local/HMS/Code/draw/draw/data/17_S17_L001.json',\n",
    "]\n",
    "files = []\n",
    "\n",
    "\n",
    "for path in paths:\n",
    "    with open (path, 'r') as file:\n",
    "        json_data = json.load(file) \n",
    "        data.append(json_data)\n",
    "\n",
    "study = draw.study.Study(data=data)\n",
    "sample, reference, section, family = study.df.iloc[0][['sample', 'reference', 'section', 'family']]\n",
    "\n",
    "column_headers = study.df.columns.tolist()\n",
    "print(column_headers)"
   ]
  },
  {
   "cell_type": "code",
   "execution_count": null,
   "metadata": {},
   "outputs": [],
   "source": [
    "data = study.get_df(\n",
    "    # min_cov = 1000,\n",
    "    # sample = ['15_S15_L001'],\n",
    "    # reference = ['3042-O-flank_1=hp1-DB'],\n",
    "    # section = ['full'],\n",
    "    # cluster = ['pop_avg'],\n",
    ")\n",
    "print(f\"df has {len(data)} rows\")"
   ]
  },
  {
   "cell_type": "code",
   "execution_count": null,
   "metadata": {},
   "outputs": [],
   "source": [
    "fig = study.base_coverage(\n",
    "    min_cov = 1000,\n",
    "    sample = ['15_S15_L001'],\n",
    "    reference = ['3042-O-flank_1=hp1-DB'],\n",
    "    section = ['full'],\n",
    "    cluster = ['pop_avg'],\n",
    ")['fig']\n",
    "fig.show()"
   ]
  },
  {
   "cell_type": "code",
   "execution_count": null,
   "metadata": {},
   "outputs": [],
   "source": [
    "%reload_ext draw\n",
    "fig = study.compare_mutation_profiles(\n",
    "    min_cov = 1000,\n",
    "    # sample = ['15_S15_L001', '16_S16_L001', '17_S17_L001.json'],\n",
    "    reference = ['3042-O-flank_1=hp1-DB'],\n",
    "    # max_plots = 3,\n",
    "    # max_axis = 0.15,\n",
    ")['fig']\n",
    "fig.show()"
   ]
  },
  {
   "cell_type": "code",
   "execution_count": null,
   "metadata": {},
   "outputs": [],
   "source": [
    "fig = study.deltaG_vs_sub_rate(\n",
    "    min_cov = 1000,\n",
    "    sample = ['15_S15_L001'],\n",
    "    reference = ['3042-O-flank_1=hp1-DB'],\n",
    "    # base_index = [1, 2, 3, 4, 5, 6, 7, 8, 9, 10],\n",
    "    base_type=['A','C','G','T']\n",
    "    # base_type=['A','C']\n",
    ")['fig']\n",
    "fig.show()"
   ]
  },
  {
   "cell_type": "code",
   "execution_count": null,
   "metadata": {},
   "outputs": [],
   "source": [
    "# fig = study.mutation_fraction_identity(\n",
    "#     min_cov = 1000,\n",
    "#     sample = ['15_S15_L001'],\n",
    "#     reference = ['3042-O-flank_1=hp1-DB'],\n",
    "#     section='full',\n",
    "#     cluster='pop_avg'\n",
    "# )['fig']\n",
    "# fig.show()"
   ]
  },
  {
   "cell_type": "code",
   "execution_count": null,
   "metadata": {},
   "outputs": [],
   "source": [
    "%reload_ext draw\n",
    "fig = study.mutation_fraction_delta(\n",
    "    min_cov = 1000,\n",
    "    sample = ['15_S15_L001', '16_S16_L001'],\n",
    "    reference = ['3042-O-flank_1=hp1-DB'],\n",
    "    section = [\"full\"]\n",
    ")['fig']\n",
    "fig.show()"
   ]
  }
 ],
 "metadata": {
  "kernelspec": {
   "display_name": "Python 3 (ipykernel)",
   "language": "python",
   "name": "python3"
  },
  "language_info": {
   "codemirror_mode": {
    "name": "ipython",
    "version": 3
   },
   "file_extension": ".py",
   "mimetype": "text/x-python",
   "name": "python",
   "nbconvert_exporter": "python",
   "pygments_lexer": "ipython3",
   "version": "3.11.2"
  }
 },
 "nbformat": 4,
 "nbformat_minor": 2
}
