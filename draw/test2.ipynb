{
 "cells": [
  {
   "cell_type": "code",
   "execution_count": 1,
   "metadata": {},
   "outputs": [],
   "source": [
    "import os, json, sys\n",
    "sys.path.append(os.path.abspath(os.path.join('..')))\n",
    "import pandas as pd\n",
    "\n",
    "import seismograph as sg\n",
    "# import warnings\n",
    "# warnings.filterwarnings('error')"
   ]
  },
  {
   "cell_type": "code",
   "execution_count": 2,
   "metadata": {},
   "outputs": [
    {
     "ename": "FileNotFoundError",
     "evalue": "[Errno 2] No such file or directory: '/Users/casper/Local/HMS/Code/draw/draw/data/15_S15_L001.json'",
     "output_type": "error",
     "traceback": [
      "\u001b[0;31m---------------------------------------------------------------------------\u001b[0m",
      "\u001b[0;31mFileNotFoundError\u001b[0m                         Traceback (most recent call last)",
      "\u001b[1;32m/Users/yvesmartin/src/draw/draw/test2.ipynb Cell 2\u001b[0m line \u001b[0;36m1\n\u001b[1;32m      <a href='vscode-notebook-cell:/Users/yvesmartin/src/draw/draw/test2.ipynb#X13sZmlsZQ%3D%3D?line=6'>7</a>\u001b[0m files \u001b[39m=\u001b[39m []\n\u001b[1;32m     <a href='vscode-notebook-cell:/Users/yvesmartin/src/draw/draw/test2.ipynb#X13sZmlsZQ%3D%3D?line=9'>10</a>\u001b[0m \u001b[39mfor\u001b[39;00m path \u001b[39min\u001b[39;00m paths:\n\u001b[0;32m---> <a href='vscode-notebook-cell:/Users/yvesmartin/src/draw/draw/test2.ipynb#X13sZmlsZQ%3D%3D?line=10'>11</a>\u001b[0m     \u001b[39mwith\u001b[39;00m \u001b[39mopen\u001b[39;49m (path, \u001b[39m'\u001b[39;49m\u001b[39mr\u001b[39;49m\u001b[39m'\u001b[39;49m) \u001b[39mas\u001b[39;00m file:\n\u001b[1;32m     <a href='vscode-notebook-cell:/Users/yvesmartin/src/draw/draw/test2.ipynb#X13sZmlsZQ%3D%3D?line=11'>12</a>\u001b[0m         json_data \u001b[39m=\u001b[39m json\u001b[39m.\u001b[39mload(file) \n\u001b[1;32m     <a href='vscode-notebook-cell:/Users/yvesmartin/src/draw/draw/test2.ipynb#X13sZmlsZQ%3D%3D?line=12'>13</a>\u001b[0m         data\u001b[39m.\u001b[39mappend(json_data)\n",
      "File \u001b[0;32m~/.pyenv/versions/3.11.6/lib/python3.11/site-packages/IPython/core/interactiveshell.py:308\u001b[0m, in \u001b[0;36m_modified_open\u001b[0;34m(file, *args, **kwargs)\u001b[0m\n\u001b[1;32m    301\u001b[0m \u001b[39mif\u001b[39;00m file \u001b[39min\u001b[39;00m {\u001b[39m0\u001b[39m, \u001b[39m1\u001b[39m, \u001b[39m2\u001b[39m}:\n\u001b[1;32m    302\u001b[0m     \u001b[39mraise\u001b[39;00m \u001b[39mValueError\u001b[39;00m(\n\u001b[1;32m    303\u001b[0m         \u001b[39mf\u001b[39m\u001b[39m\"\u001b[39m\u001b[39mIPython won\u001b[39m\u001b[39m'\u001b[39m\u001b[39mt let you open fd=\u001b[39m\u001b[39m{\u001b[39;00mfile\u001b[39m}\u001b[39;00m\u001b[39m by default \u001b[39m\u001b[39m\"\u001b[39m\n\u001b[1;32m    304\u001b[0m         \u001b[39m\"\u001b[39m\u001b[39mas it is likely to crash IPython. If you know what you are doing, \u001b[39m\u001b[39m\"\u001b[39m\n\u001b[1;32m    305\u001b[0m         \u001b[39m\"\u001b[39m\u001b[39myou can use builtins\u001b[39m\u001b[39m'\u001b[39m\u001b[39m open.\u001b[39m\u001b[39m\"\u001b[39m\n\u001b[1;32m    306\u001b[0m     )\n\u001b[0;32m--> 308\u001b[0m \u001b[39mreturn\u001b[39;00m io_open(file, \u001b[39m*\u001b[39;49margs, \u001b[39m*\u001b[39;49m\u001b[39m*\u001b[39;49mkwargs)\n",
      "\u001b[0;31mFileNotFoundError\u001b[0m: [Errno 2] No such file or directory: '/Users/casper/Local/HMS/Code/draw/draw/data/15_S15_L001.json'"
     ]
    }
   ],
   "source": [
    "data = []\n",
    "paths = [\n",
    "    '/Users/casper/Local/HMS/Code/draw/draw/data/15_S15_L001.json',\n",
    "    '/Users/casper/Local/HMS/Code/draw/draw/data/16_S16_L001.json',\n",
    "    '/Users/casper/Local/HMS/Code/draw/draw/data/17_S17_L001.json',\n",
    "]\n",
    "files = []\n",
    "\n",
    "\n",
    "for path in paths:\n",
    "    with open (path, 'r') as file:\n",
    "        json_data = json.load(file) \n",
    "        data.append(json_data)\n",
    "\n",
    "study = sg.study.Study(data=data)\n",
    "sample, reference, section, family = study.df.iloc[0][['sample', 'reference', 'section', 'family']]\n",
    "\n",
    "column_headers = study.df.columns.tolist()\n",
    "print(column_headers)"
   ]
  },
  {
   "cell_type": "code",
   "execution_count": null,
   "metadata": {},
   "outputs": [],
   "source": [
    "data = study.get_df(\n",
    "    # min_cov = 1000,\n",
    "    # sample = ['15_S15_L001'],\n",
    "    # reference = ['3042-O-flank_1=hp1-DB'],\n",
    "    # section = ['full'],\n",
    "    # cluster = ['pop_avg'],\n",
    ")\n",
    "print(f\"df has {len(data)} rows\")"
   ]
  },
  {
   "cell_type": "code",
   "execution_count": null,
   "metadata": {},
   "outputs": [],
   "source": [
    "fig = study.base_coverage(\n",
    "    min_cov = 1000,\n",
    "    sample = ['15_S15_L001'],\n",
    "    reference = ['3042-O-flank_1=hp1-DB'],\n",
    "    section = ['full'],\n",
    "    cluster = ['pop_avg'],\n",
    ")['fig']\n",
    "fig.show()"
   ]
  },
  {
   "cell_type": "code",
   "execution_count": null,
   "metadata": {},
   "outputs": [],
   "source": [
    "%reload_ext draw\n",
    "fig = study.compare_mutation_profiles(\n",
    "    min_cov = 1000,\n",
    "    # sample = ['15_S15_L001', '16_S16_L001', '17_S17_L001.json'],\n",
    "    reference = ['3042-O-flank_1=hp1-DB'],\n",
    "    # max_plots = 3,\n",
    "    # max_axis = 0.15,\n",
    ")['fig']\n",
    "fig.show()"
   ]
  },
  {
   "cell_type": "code",
   "execution_count": null,
   "metadata": {},
   "outputs": [],
   "source": [
    "# fig = study.mutation_fraction_identity(\n",
    "#     min_cov = 1000,\n",
    "#     sample = ['15_S15_L001'],\n",
    "#     reference = ['3042-O-flank_1=hp1-DB'],\n",
    "#     section='full',\n",
    "#     cluster='pop_avg'\n",
    "# )['fig']\n",
    "# fig.show()"
   ]
  },
  {
   "cell_type": "code",
   "execution_count": null,
   "metadata": {},
   "outputs": [],
   "source": [
    "%reload_ext draw\n",
    "fig = study.mutation_fraction_delta(\n",
    "    min_cov = 1000,\n",
    "    sample = ['15_S15_L001', '16_S16_L001'],\n",
    "    reference = ['3042-O-flank_1=hp1-DB'],\n",
    "    section = [\"full\"]\n",
    ")['fig']\n",
    "fig.show()"
   ]
  }
 ],
 "metadata": {
  "kernelspec": {
   "display_name": "Python 3 (ipykernel)",
   "language": "python",
   "name": "python3"
  },
  "language_info": {
   "codemirror_mode": {
    "name": "ipython",
    "version": 3
   },
   "file_extension": ".py",
   "mimetype": "text/x-python",
   "name": "python",
   "nbconvert_exporter": "python",
   "pygments_lexer": "ipython3",
   "version": "3.11.6"
  }
 },
 "nbformat": 4,
 "nbformat_minor": 2
}
