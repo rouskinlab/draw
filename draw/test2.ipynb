{
 "cells": [
  {
   "cell_type": "code",
   "execution_count": 7,
   "metadata": {},
   "outputs": [],
   "source": [
    "import os, json, sys\n",
    "sys.path.append(os.path.abspath(os.path.join('..')))\n",
    "import pandas as pd\n",
    "\n",
    "import draw"
   ]
  },
  {
   "cell_type": "code",
   "execution_count": 8,
   "metadata": {},
   "outputs": [
    {
     "name": "stdout",
     "output_type": "stream",
     "text": [
      "['sample', 'reference', 'barcode_length', 'barcode_start', 'family', 'flank', 'num_aligned', 'secondary_signature_length', 'secondary_signature_start', 'section', 'cluster', 'deltaG', 'section_end', 'section_start', 'sequence', 'structure', 'min_cov', 'cov', 'del', 'info', 'ins', 'sub_A', 'sub_C', 'sub_G', 'sub_N', 'sub_T', 'sub_hist', 'sub_rate']\n"
     ]
    }
   ],
   "source": [
    "data = []\n",
    "paths = [\n",
    "    '/Users/casper/Local/HMS/Code/draw/draw/data/15_S15_L001.json',\n",
    "    '/Users/casper/Local/HMS/Code/draw/draw/data/16_S16_L001.json',\n",
    "    '/Users/casper/Local/HMS/Code/draw/draw/data/17_S17_L001.json',\n",
    "]\n",
    "files = []\n",
    "\n",
    "\n",
    "for path in paths:\n",
    "    with open (path, 'r') as file:\n",
    "        json_data = json.load(file) \n",
    "        data.append(json_data)\n",
    "\n",
    "study = draw.study.Study(data=data)\n",
    "sample, reference, section, family = study.df.iloc[0][['sample', 'reference', 'section', 'family']]\n",
    "\n",
    "column_headers = study.df.columns.tolist()\n",
    "print(column_headers)"
   ]
  },
  {
   "cell_type": "code",
   "execution_count": 9,
   "metadata": {},
   "outputs": [
    {
     "name": "stdout",
     "output_type": "stream",
     "text": [
      "df has 1887 rows\n"
     ]
    }
   ],
   "source": [
    "data = study.get_df(\n",
    "    # min_cov = 1000,\n",
    "    # sample = ['15_S15_L001'],\n",
    "    # reference = ['3042-O-flank_1=hp1-DB'],\n",
    "    # section = ['full'],\n",
    "    # cluster = ['pop_avg'],\n",
    ")\n",
    "print(f\"df has {len(data)} rows\")"
   ]
  },
  {
   "cell_type": "code",
   "execution_count": 12,
   "metadata": {},
   "outputs": [
    {
     "data": {
      "application/vnd.plotly.v1+json": {
       "config": {
        "plotlyServerURL": "https://plot.ly"
       },
       "data": [
        {
         "marker": {
          "color": "indianred"
         },
         "showlegend": false,
         "type": "bar",
         "x": [
          1,
          2,
          3,
          4,
          5,
          6,
          7,
          8,
          9,
          10,
          11,
          12,
          13,
          14,
          15,
          16,
          17,
          18,
          19,
          20,
          21,
          22,
          23,
          24,
          25,
          26,
          27,
          28,
          29,
          30,
          31,
          32,
          33,
          34,
          35,
          36,
          37,
          38,
          39,
          40,
          41,
          42,
          43,
          44,
          45,
          46,
          47,
          48,
          49,
          50,
          51,
          52,
          53,
          54,
          55,
          56,
          57,
          58,
          59,
          60,
          61,
          62,
          63,
          64,
          65,
          66,
          67,
          68,
          69,
          70,
          71,
          72,
          73,
          74,
          75,
          76,
          77,
          78,
          79,
          80,
          81,
          82,
          83,
          84,
          85,
          86,
          87,
          88,
          89,
          90,
          91,
          92,
          93,
          94,
          95,
          96,
          97,
          98,
          99,
          100,
          101,
          102,
          103,
          104,
          105,
          106,
          107,
          108,
          109,
          110,
          111,
          112,
          113,
          114,
          115,
          116,
          117,
          118,
          119,
          120,
          121,
          122,
          123,
          124,
          125,
          126,
          127,
          128,
          129,
          130,
          131,
          132,
          133,
          134,
          135,
          136,
          137,
          138,
          139,
          140,
          141,
          142,
          143,
          144,
          145,
          146,
          147,
          148,
          149,
          150,
          151,
          152,
          153,
          154,
          155,
          156,
          157,
          158,
          159,
          160,
          161,
          162,
          163,
          164,
          165,
          166,
          167,
          168,
          169,
          170
         ],
         "y": [
          3605,
          3863,
          3920,
          4034,
          4064,
          4075,
          4077,
          4078,
          4078,
          4079,
          4080,
          4080,
          4081,
          4081,
          4081,
          4081,
          4082,
          4083,
          4083,
          4083,
          4083,
          4083,
          4083,
          4083,
          4083,
          4083,
          4083,
          4083,
          4084,
          4084,
          4084,
          4084,
          4084,
          4088,
          4090,
          4090,
          4090,
          4090,
          4090,
          4090,
          4090,
          4091,
          4091,
          4091,
          4091,
          4091,
          4092,
          4093,
          4093,
          4093,
          4093,
          4093,
          4093,
          4093,
          4093,
          4093,
          4093,
          4093,
          4093,
          4093,
          4093,
          4093,
          4093,
          4093,
          4093,
          4093,
          4093,
          4092,
          4092,
          4092,
          4092,
          4092,
          4092,
          4092,
          4092,
          4092,
          4092,
          4092,
          4092,
          4092,
          4092,
          4092,
          4092,
          4092,
          4092,
          4092,
          4092,
          4092,
          4092,
          4092,
          4092,
          4092,
          4092,
          4092,
          4092,
          4092,
          4092,
          4092,
          4092,
          4092,
          4092,
          4092,
          4092,
          4092,
          4092,
          4092,
          4092,
          4092,
          4091,
          4091,
          4091,
          4091,
          4091,
          4091,
          4091,
          4091,
          4091,
          4091,
          4091,
          4091,
          4091,
          4091,
          4091,
          4091,
          4091,
          4091,
          4091,
          4091,
          4091,
          4091,
          4091,
          4091,
          4091,
          4091,
          4091,
          4091,
          4091,
          4091,
          4091,
          4091,
          4092,
          4092,
          4092,
          4092,
          4092,
          4092,
          4092,
          4092,
          4092,
          4092,
          4092,
          4092,
          4092,
          4092,
          4092,
          4091,
          4091,
          4091,
          4091,
          4091,
          4091,
          4091,
          4090,
          4090,
          4088,
          4088,
          4080,
          4011,
          3952,
          3373
         ]
        }
       ],
       "layout": {
        "paper_bgcolor": "white",
        "plot_bgcolor": "white",
        "template": {
         "data": {
          "bar": [
           {
            "error_x": {
             "color": "#2a3f5f"
            },
            "error_y": {
             "color": "#2a3f5f"
            },
            "marker": {
             "line": {
              "color": "#E5ECF6",
              "width": 0.5
             },
             "pattern": {
              "fillmode": "overlay",
              "size": 10,
              "solidity": 0.2
             }
            },
            "type": "bar"
           }
          ],
          "barpolar": [
           {
            "marker": {
             "line": {
              "color": "#E5ECF6",
              "width": 0.5
             },
             "pattern": {
              "fillmode": "overlay",
              "size": 10,
              "solidity": 0.2
             }
            },
            "type": "barpolar"
           }
          ],
          "carpet": [
           {
            "aaxis": {
             "endlinecolor": "#2a3f5f",
             "gridcolor": "white",
             "linecolor": "white",
             "minorgridcolor": "white",
             "startlinecolor": "#2a3f5f"
            },
            "baxis": {
             "endlinecolor": "#2a3f5f",
             "gridcolor": "white",
             "linecolor": "white",
             "minorgridcolor": "white",
             "startlinecolor": "#2a3f5f"
            },
            "type": "carpet"
           }
          ],
          "choropleth": [
           {
            "colorbar": {
             "outlinewidth": 0,
             "ticks": ""
            },
            "type": "choropleth"
           }
          ],
          "contour": [
           {
            "colorbar": {
             "outlinewidth": 0,
             "ticks": ""
            },
            "colorscale": [
             [
              0,
              "#0d0887"
             ],
             [
              0.1111111111111111,
              "#46039f"
             ],
             [
              0.2222222222222222,
              "#7201a8"
             ],
             [
              0.3333333333333333,
              "#9c179e"
             ],
             [
              0.4444444444444444,
              "#bd3786"
             ],
             [
              0.5555555555555556,
              "#d8576b"
             ],
             [
              0.6666666666666666,
              "#ed7953"
             ],
             [
              0.7777777777777778,
              "#fb9f3a"
             ],
             [
              0.8888888888888888,
              "#fdca26"
             ],
             [
              1,
              "#f0f921"
             ]
            ],
            "type": "contour"
           }
          ],
          "contourcarpet": [
           {
            "colorbar": {
             "outlinewidth": 0,
             "ticks": ""
            },
            "type": "contourcarpet"
           }
          ],
          "heatmap": [
           {
            "colorbar": {
             "outlinewidth": 0,
             "ticks": ""
            },
            "colorscale": [
             [
              0,
              "#0d0887"
             ],
             [
              0.1111111111111111,
              "#46039f"
             ],
             [
              0.2222222222222222,
              "#7201a8"
             ],
             [
              0.3333333333333333,
              "#9c179e"
             ],
             [
              0.4444444444444444,
              "#bd3786"
             ],
             [
              0.5555555555555556,
              "#d8576b"
             ],
             [
              0.6666666666666666,
              "#ed7953"
             ],
             [
              0.7777777777777778,
              "#fb9f3a"
             ],
             [
              0.8888888888888888,
              "#fdca26"
             ],
             [
              1,
              "#f0f921"
             ]
            ],
            "type": "heatmap"
           }
          ],
          "heatmapgl": [
           {
            "colorbar": {
             "outlinewidth": 0,
             "ticks": ""
            },
            "colorscale": [
             [
              0,
              "#0d0887"
             ],
             [
              0.1111111111111111,
              "#46039f"
             ],
             [
              0.2222222222222222,
              "#7201a8"
             ],
             [
              0.3333333333333333,
              "#9c179e"
             ],
             [
              0.4444444444444444,
              "#bd3786"
             ],
             [
              0.5555555555555556,
              "#d8576b"
             ],
             [
              0.6666666666666666,
              "#ed7953"
             ],
             [
              0.7777777777777778,
              "#fb9f3a"
             ],
             [
              0.8888888888888888,
              "#fdca26"
             ],
             [
              1,
              "#f0f921"
             ]
            ],
            "type": "heatmapgl"
           }
          ],
          "histogram": [
           {
            "marker": {
             "pattern": {
              "fillmode": "overlay",
              "size": 10,
              "solidity": 0.2
             }
            },
            "type": "histogram"
           }
          ],
          "histogram2d": [
           {
            "colorbar": {
             "outlinewidth": 0,
             "ticks": ""
            },
            "colorscale": [
             [
              0,
              "#0d0887"
             ],
             [
              0.1111111111111111,
              "#46039f"
             ],
             [
              0.2222222222222222,
              "#7201a8"
             ],
             [
              0.3333333333333333,
              "#9c179e"
             ],
             [
              0.4444444444444444,
              "#bd3786"
             ],
             [
              0.5555555555555556,
              "#d8576b"
             ],
             [
              0.6666666666666666,
              "#ed7953"
             ],
             [
              0.7777777777777778,
              "#fb9f3a"
             ],
             [
              0.8888888888888888,
              "#fdca26"
             ],
             [
              1,
              "#f0f921"
             ]
            ],
            "type": "histogram2d"
           }
          ],
          "histogram2dcontour": [
           {
            "colorbar": {
             "outlinewidth": 0,
             "ticks": ""
            },
            "colorscale": [
             [
              0,
              "#0d0887"
             ],
             [
              0.1111111111111111,
              "#46039f"
             ],
             [
              0.2222222222222222,
              "#7201a8"
             ],
             [
              0.3333333333333333,
              "#9c179e"
             ],
             [
              0.4444444444444444,
              "#bd3786"
             ],
             [
              0.5555555555555556,
              "#d8576b"
             ],
             [
              0.6666666666666666,
              "#ed7953"
             ],
             [
              0.7777777777777778,
              "#fb9f3a"
             ],
             [
              0.8888888888888888,
              "#fdca26"
             ],
             [
              1,
              "#f0f921"
             ]
            ],
            "type": "histogram2dcontour"
           }
          ],
          "mesh3d": [
           {
            "colorbar": {
             "outlinewidth": 0,
             "ticks": ""
            },
            "type": "mesh3d"
           }
          ],
          "parcoords": [
           {
            "line": {
             "colorbar": {
              "outlinewidth": 0,
              "ticks": ""
             }
            },
            "type": "parcoords"
           }
          ],
          "pie": [
           {
            "automargin": true,
            "type": "pie"
           }
          ],
          "scatter": [
           {
            "fillpattern": {
             "fillmode": "overlay",
             "size": 10,
             "solidity": 0.2
            },
            "type": "scatter"
           }
          ],
          "scatter3d": [
           {
            "line": {
             "colorbar": {
              "outlinewidth": 0,
              "ticks": ""
             }
            },
            "marker": {
             "colorbar": {
              "outlinewidth": 0,
              "ticks": ""
             }
            },
            "type": "scatter3d"
           }
          ],
          "scattercarpet": [
           {
            "marker": {
             "colorbar": {
              "outlinewidth": 0,
              "ticks": ""
             }
            },
            "type": "scattercarpet"
           }
          ],
          "scattergeo": [
           {
            "marker": {
             "colorbar": {
              "outlinewidth": 0,
              "ticks": ""
             }
            },
            "type": "scattergeo"
           }
          ],
          "scattergl": [
           {
            "marker": {
             "colorbar": {
              "outlinewidth": 0,
              "ticks": ""
             }
            },
            "type": "scattergl"
           }
          ],
          "scattermapbox": [
           {
            "marker": {
             "colorbar": {
              "outlinewidth": 0,
              "ticks": ""
             }
            },
            "type": "scattermapbox"
           }
          ],
          "scatterpolar": [
           {
            "marker": {
             "colorbar": {
              "outlinewidth": 0,
              "ticks": ""
             }
            },
            "type": "scatterpolar"
           }
          ],
          "scatterpolargl": [
           {
            "marker": {
             "colorbar": {
              "outlinewidth": 0,
              "ticks": ""
             }
            },
            "type": "scatterpolargl"
           }
          ],
          "scatterternary": [
           {
            "marker": {
             "colorbar": {
              "outlinewidth": 0,
              "ticks": ""
             }
            },
            "type": "scatterternary"
           }
          ],
          "surface": [
           {
            "colorbar": {
             "outlinewidth": 0,
             "ticks": ""
            },
            "colorscale": [
             [
              0,
              "#0d0887"
             ],
             [
              0.1111111111111111,
              "#46039f"
             ],
             [
              0.2222222222222222,
              "#7201a8"
             ],
             [
              0.3333333333333333,
              "#9c179e"
             ],
             [
              0.4444444444444444,
              "#bd3786"
             ],
             [
              0.5555555555555556,
              "#d8576b"
             ],
             [
              0.6666666666666666,
              "#ed7953"
             ],
             [
              0.7777777777777778,
              "#fb9f3a"
             ],
             [
              0.8888888888888888,
              "#fdca26"
             ],
             [
              1,
              "#f0f921"
             ]
            ],
            "type": "surface"
           }
          ],
          "table": [
           {
            "cells": {
             "fill": {
              "color": "#EBF0F8"
             },
             "line": {
              "color": "white"
             }
            },
            "header": {
             "fill": {
              "color": "#C8D4E3"
             },
             "line": {
              "color": "white"
             }
            },
            "type": "table"
           }
          ]
         },
         "layout": {
          "annotationdefaults": {
           "arrowcolor": "#2a3f5f",
           "arrowhead": 0,
           "arrowwidth": 1
          },
          "autotypenumbers": "strict",
          "coloraxis": {
           "colorbar": {
            "outlinewidth": 0,
            "ticks": ""
           }
          },
          "colorscale": {
           "diverging": [
            [
             0,
             "#8e0152"
            ],
            [
             0.1,
             "#c51b7d"
            ],
            [
             0.2,
             "#de77ae"
            ],
            [
             0.3,
             "#f1b6da"
            ],
            [
             0.4,
             "#fde0ef"
            ],
            [
             0.5,
             "#f7f7f7"
            ],
            [
             0.6,
             "#e6f5d0"
            ],
            [
             0.7,
             "#b8e186"
            ],
            [
             0.8,
             "#7fbc41"
            ],
            [
             0.9,
             "#4d9221"
            ],
            [
             1,
             "#276419"
            ]
           ],
           "sequential": [
            [
             0,
             "#0d0887"
            ],
            [
             0.1111111111111111,
             "#46039f"
            ],
            [
             0.2222222222222222,
             "#7201a8"
            ],
            [
             0.3333333333333333,
             "#9c179e"
            ],
            [
             0.4444444444444444,
             "#bd3786"
            ],
            [
             0.5555555555555556,
             "#d8576b"
            ],
            [
             0.6666666666666666,
             "#ed7953"
            ],
            [
             0.7777777777777778,
             "#fb9f3a"
            ],
            [
             0.8888888888888888,
             "#fdca26"
            ],
            [
             1,
             "#f0f921"
            ]
           ],
           "sequentialminus": [
            [
             0,
             "#0d0887"
            ],
            [
             0.1111111111111111,
             "#46039f"
            ],
            [
             0.2222222222222222,
             "#7201a8"
            ],
            [
             0.3333333333333333,
             "#9c179e"
            ],
            [
             0.4444444444444444,
             "#bd3786"
            ],
            [
             0.5555555555555556,
             "#d8576b"
            ],
            [
             0.6666666666666666,
             "#ed7953"
            ],
            [
             0.7777777777777778,
             "#fb9f3a"
            ],
            [
             0.8888888888888888,
             "#fdca26"
            ],
            [
             1,
             "#f0f921"
            ]
           ]
          },
          "colorway": [
           "#636efa",
           "#EF553B",
           "#00cc96",
           "#ab63fa",
           "#FFA15A",
           "#19d3f3",
           "#FF6692",
           "#B6E880",
           "#FF97FF",
           "#FECB52"
          ],
          "font": {
           "color": "#2a3f5f"
          },
          "geo": {
           "bgcolor": "white",
           "lakecolor": "white",
           "landcolor": "#E5ECF6",
           "showlakes": true,
           "showland": true,
           "subunitcolor": "white"
          },
          "hoverlabel": {
           "align": "left"
          },
          "hovermode": "closest",
          "mapbox": {
           "style": "light"
          },
          "paper_bgcolor": "white",
          "plot_bgcolor": "#E5ECF6",
          "polar": {
           "angularaxis": {
            "gridcolor": "white",
            "linecolor": "white",
            "ticks": ""
           },
           "bgcolor": "#E5ECF6",
           "radialaxis": {
            "gridcolor": "white",
            "linecolor": "white",
            "ticks": ""
           }
          },
          "scene": {
           "xaxis": {
            "backgroundcolor": "#E5ECF6",
            "gridcolor": "white",
            "gridwidth": 2,
            "linecolor": "white",
            "showbackground": true,
            "ticks": "",
            "zerolinecolor": "white"
           },
           "yaxis": {
            "backgroundcolor": "#E5ECF6",
            "gridcolor": "white",
            "gridwidth": 2,
            "linecolor": "white",
            "showbackground": true,
            "ticks": "",
            "zerolinecolor": "white"
           },
           "zaxis": {
            "backgroundcolor": "#E5ECF6",
            "gridcolor": "white",
            "gridwidth": 2,
            "linecolor": "white",
            "showbackground": true,
            "ticks": "",
            "zerolinecolor": "white"
           }
          },
          "shapedefaults": {
           "line": {
            "color": "#2a3f5f"
           }
          },
          "ternary": {
           "aaxis": {
            "gridcolor": "white",
            "linecolor": "white",
            "ticks": ""
           },
           "baxis": {
            "gridcolor": "white",
            "linecolor": "white",
            "ticks": ""
           },
           "bgcolor": "#E5ECF6",
           "caxis": {
            "gridcolor": "white",
            "linecolor": "white",
            "ticks": ""
           }
          },
          "title": {
           "x": 0.05
          },
          "xaxis": {
           "automargin": true,
           "gridcolor": "white",
           "linecolor": "white",
           "ticks": "",
           "title": {
            "standoff": 15
           },
           "zerolinecolor": "white",
           "zerolinewidth": 2
          },
          "yaxis": {
           "automargin": true,
           "gridcolor": "white",
           "linecolor": "white",
           "ticks": "",
           "title": {
            "standoff": 15
           },
           "zerolinecolor": "white",
           "zerolinewidth": 2
          }
         }
        },
        "title": {
         "text": "Base coverage - 15_S15_L001 - 3042-O-flank_1=hp1-DB"
        },
        "xaxis": {
         "title": {
          "text": "Position"
         }
        },
        "yaxis": {
         "title": {
          "text": "Count"
         }
        }
       }
      }
     },
     "metadata": {},
     "output_type": "display_data"
    }
   ],
   "source": [
    "fig = study.base_coverage(\n",
    "    min_cov = 1000,\n",
    "    sample = ['15_S15_L001'],\n",
    "    reference = ['3042-O-flank_1=hp1-DB'],\n",
    "    section = ['full'],\n",
    "    cluster = ['pop_avg'],\n",
    ")['fig']\n",
    "fig.show()"
   ]
  },
  {
   "cell_type": "code",
   "execution_count": 11,
   "metadata": {},
   "outputs": [
    {
     "ename": "AttributeError",
     "evalue": "'list' object has no attribute 'reshape'",
     "output_type": "error",
     "traceback": [
      "\u001b[0;31m---------------------------------------------------------------------------\u001b[0m",
      "\u001b[0;31mAttributeError\u001b[0m                            Traceback (most recent call last)",
      "\u001b[1;32m/Users/casper/Local/HMS/Code/draw/draw/test2.ipynb Cell 5\u001b[0m line \u001b[0;36m1\n\u001b[0;32m----> <a href='vscode-notebook-cell:/Users/casper/Local/HMS/Code/draw/draw/test2.ipynb#W4sZmlsZQ%3D%3D?line=0'>1</a>\u001b[0m fig \u001b[39m=\u001b[39m study\u001b[39m.\u001b[39;49mcompare_mutation_profiles(\n\u001b[1;32m      <a href='vscode-notebook-cell:/Users/casper/Local/HMS/Code/draw/draw/test2.ipynb#W4sZmlsZQ%3D%3D?line=1'>2</a>\u001b[0m     min_cov \u001b[39m=\u001b[39;49m \u001b[39m1000\u001b[39;49m,\n\u001b[1;32m      <a href='vscode-notebook-cell:/Users/casper/Local/HMS/Code/draw/draw/test2.ipynb#W4sZmlsZQ%3D%3D?line=2'>3</a>\u001b[0m     sample \u001b[39m=\u001b[39;49m [\u001b[39m'\u001b[39;49m\u001b[39m15_S15_L001\u001b[39;49m\u001b[39m'\u001b[39;49m, \u001b[39m'\u001b[39;49m\u001b[39m16_S16_L001\u001b[39;49m\u001b[39m'\u001b[39;49m, \u001b[39m'\u001b[39;49m\u001b[39m17_S17_L001.json\u001b[39;49m\u001b[39m'\u001b[39;49m],\n\u001b[1;32m      <a href='vscode-notebook-cell:/Users/casper/Local/HMS/Code/draw/draw/test2.ipynb#W4sZmlsZQ%3D%3D?line=3'>4</a>\u001b[0m     reference \u001b[39m=\u001b[39;49m [\u001b[39m'\u001b[39;49m\u001b[39m3042-O-flank_1=hp1-DB\u001b[39;49m\u001b[39m'\u001b[39;49m],\n\u001b[1;32m      <a href='vscode-notebook-cell:/Users/casper/Local/HMS/Code/draw/draw/test2.ipynb#W4sZmlsZQ%3D%3D?line=4'>5</a>\u001b[0m     max_plots \u001b[39m=\u001b[39;49m \u001b[39m3\u001b[39;49m,\n\u001b[1;32m      <a href='vscode-notebook-cell:/Users/casper/Local/HMS/Code/draw/draw/test2.ipynb#W4sZmlsZQ%3D%3D?line=5'>6</a>\u001b[0m     max_axis \u001b[39m=\u001b[39;49m \u001b[39m0.15\u001b[39;49m,\n\u001b[1;32m      <a href='vscode-notebook-cell:/Users/casper/Local/HMS/Code/draw/draw/test2.ipynb#W4sZmlsZQ%3D%3D?line=6'>7</a>\u001b[0m )[\u001b[39m'\u001b[39m\u001b[39mfig\u001b[39m\u001b[39m'\u001b[39m]\n\u001b[1;32m      <a href='vscode-notebook-cell:/Users/casper/Local/HMS/Code/draw/draw/test2.ipynb#W4sZmlsZQ%3D%3D?line=7'>8</a>\u001b[0m fig\u001b[39m.\u001b[39mshow()\n",
      "File \u001b[0;32m~/Local/HMS/Code/draw/draw/util/misc.py:148\u001b[0m, in \u001b[0;36msave_plot.<locals>.wrapper\u001b[0;34m(*args, **kwargs)\u001b[0m\n\u001b[1;32m    147\u001b[0m \u001b[39mdef\u001b[39;00m \u001b[39mwrapper\u001b[39m(\u001b[39m*\u001b[39margs, \u001b[39m*\u001b[39m\u001b[39m*\u001b[39mkwargs):\n\u001b[0;32m--> 148\u001b[0m     out \u001b[39m=\u001b[39m func(\u001b[39m*\u001b[39;49margs, \u001b[39m*\u001b[39;49m\u001b[39m*\u001b[39;49mkwargs)\n\u001b[1;32m    149\u001b[0m     to_html, to_png \u001b[39m=\u001b[39m kwargs\u001b[39m.\u001b[39mpop(\u001b[39m'\u001b[39m\u001b[39mto_html\u001b[39m\u001b[39m'\u001b[39m, \u001b[39mNone\u001b[39;00m), kwargs\u001b[39m.\u001b[39mpop(\u001b[39m'\u001b[39m\u001b[39mto_png\u001b[39m\u001b[39m'\u001b[39m, \u001b[39mNone\u001b[39;00m)\n\u001b[1;32m    150\u001b[0m     \u001b[39mif\u001b[39;00m to_html:\n",
      "File \u001b[0;32m~/Local/HMS/Code/draw/draw/study.py:399\u001b[0m, in \u001b[0;36mStudy.compare_mutation_profiles\u001b[0;34m(self, max_plots, max_axis, **kwargs)\u001b[0m\n\u001b[1;32m    391\u001b[0m \u001b[39m\u001b[39m\u001b[39m\"\"\"Plot the mutation fraction of multiple mutation profiles.\u001b[39;00m\n\u001b[1;32m    392\u001b[0m \n\u001b[1;32m    393\u001b[0m \u001b[39mArgs:\u001b[39;00m\n\u001b[1;32m    394\u001b[0m \u001b[39m    max_plots: maximum number of plots to show.\u001b[39;00m\n\u001b[1;32m    395\u001b[0m \u001b[39m    max_axis: maximum value of the x and y axis. If None, the maximum value of the data will be used if above 0.15, otherwise 0.15.\u001b[39;00m\n\u001b[1;32m    396\u001b[0m \u001b[39m\"\"\"\u001b[39;00m\n\u001b[1;32m    397\u001b[0m kwargs[\u001b[39m'\u001b[39m\u001b[39munique_id\u001b[39m\u001b[39m'\u001b[39m] \u001b[39m=\u001b[39m \u001b[39mTrue\u001b[39;00m\n\u001b[0;32m--> 399\u001b[0m \u001b[39mreturn\u001b[39;00m \u001b[39mself\u001b[39;49m\u001b[39m.\u001b[39;49mwrap_to_plotter(\n\u001b[1;32m    400\u001b[0m     plotter\u001b[39m.\u001b[39;49mcompare_mutation_profiles,\n\u001b[1;32m    401\u001b[0m     \u001b[39mlocals\u001b[39;49m(),\n\u001b[1;32m    402\u001b[0m     kwargs\n\u001b[1;32m    403\u001b[0m )\n",
      "File \u001b[0;32m~/Local/HMS/Code/draw/draw/study.py:122\u001b[0m, in \u001b[0;36mStudy.wrap_to_plotter\u001b[0;34m(self, func, loc, kwargs)\u001b[0m\n\u001b[1;32m    116\u001b[0m kwargs \u001b[39m=\u001b[39m {\n\u001b[1;32m    117\u001b[0m         \u001b[39m*\u001b[39m\u001b[39m*\u001b[39m{k:v \u001b[39mfor\u001b[39;00m k,v \u001b[39min\u001b[39;00m loc\u001b[39m.\u001b[39mitems() \u001b[39mif\u001b[39;00m \u001b[39mnot\u001b[39;00m k \u001b[39min\u001b[39;00m [\u001b[39m'\u001b[39m\u001b[39mself\u001b[39m\u001b[39m'\u001b[39m, \u001b[39m'\u001b[39m\u001b[39margs\u001b[39m\u001b[39m'\u001b[39m, \u001b[39m'\u001b[39m\u001b[39mkwargs\u001b[39m\u001b[39m'\u001b[39m]},\n\u001b[1;32m    118\u001b[0m         \u001b[39m*\u001b[39m\u001b[39m*\u001b[39mkwargs\n\u001b[1;32m    119\u001b[0m     }\n\u001b[1;32m    121\u001b[0m \u001b[39m\u001b[39m\u001b[39m\"\"\"Wrapper for the plot functions.\"\"\"\u001b[39;00m\n\u001b[0;32m--> 122\u001b[0m \u001b[39mreturn\u001b[39;00m func(\n\u001b[1;32m    123\u001b[0m     manipulator\u001b[39m.\u001b[39;49mget_df(\u001b[39mself\u001b[39;49m\u001b[39m.\u001b[39;49mdf, \n\u001b[1;32m    124\u001b[0m                         \u001b[39m*\u001b[39;49m\u001b[39m*\u001b[39;49m{k:v \u001b[39mfor\u001b[39;49;00m k,v \u001b[39min\u001b[39;49;00m kwargs\u001b[39m.\u001b[39;49mitems() \u001b[39mif\u001b[39;49;00m k \u001b[39min\u001b[39;49;00m \u001b[39mlist\u001b[39;49m(\u001b[39mself\u001b[39;49m\u001b[39m.\u001b[39;49mdf\u001b[39m.\u001b[39;49mcolumns)\u001b[39m+\u001b[39;49m extract_args(manipulator\u001b[39m.\u001b[39;49mget_df)}), \n\u001b[1;32m    125\u001b[0m                         \u001b[39m*\u001b[39;49m\u001b[39m*\u001b[39;49m{k:v \u001b[39mfor\u001b[39;49;00m k,v \u001b[39min\u001b[39;49;00m kwargs\u001b[39m.\u001b[39;49mitems() \u001b[39mif\u001b[39;49;00m k \u001b[39min\u001b[39;49;00m extract_args(func)})\n",
      "File \u001b[0;32m~/Local/HMS/Code/draw/draw/plotter.py:510\u001b[0m, in \u001b[0;36mcompare_mutation_profiles\u001b[0;34m(data, max_plots, max_axis)\u001b[0m\n\u001b[1;32m    508\u001b[0m \u001b[39m# linear regression line\u001b[39;00m\n\u001b[1;32m    509\u001b[0m model \u001b[39m=\u001b[39m LinearRegression()\n\u001b[0;32m--> 510\u001b[0m model\u001b[39m.\u001b[39mfit(x\u001b[39m.\u001b[39;49mreshape(\u001b[39m-\u001b[39m\u001b[39m1\u001b[39m,\u001b[39m1\u001b[39m), y)\n\u001b[1;32m    511\u001b[0m slope, intercept, r_value \u001b[39m=\u001b[39m model\u001b[39m.\u001b[39mcoef_[\u001b[39m0\u001b[39m], model\u001b[39m.\u001b[39mintercept_, model\u001b[39m.\u001b[39mscore(x\u001b[39m.\u001b[39mreshape(\u001b[39m-\u001b[39m\u001b[39m1\u001b[39m,\u001b[39m1\u001b[39m), y)\n\u001b[1;32m    512\u001b[0m fig\u001b[39m.\u001b[39madd_trace(go\u001b[39m.\u001b[39mScatter(x\u001b[39m=\u001b[39mx, y\u001b[39m=\u001b[39mslope\u001b[39m*\u001b[39mx\u001b[39m+\u001b[39mintercept, mode\u001b[39m=\u001b[39m\u001b[39m'\u001b[39m\u001b[39mlines\u001b[39m\u001b[39m'\u001b[39m, name\u001b[39m=\u001b[39m\u001b[39m'\u001b[39m\u001b[39mlinear regression: y = \u001b[39m\u001b[39m{}\u001b[39;00m\u001b[39mx + \u001b[39m\u001b[39m{}\u001b[39;00m\u001b[39m'\u001b[39m\u001b[39m.\u001b[39mformat(\u001b[39mround\u001b[39m(slope,\u001b[39m4\u001b[39m), \u001b[39mround\u001b[39m(intercept,\u001b[39m4\u001b[39m)), visible\u001b[39m=\u001b[39m\u001b[39mFalse\u001b[39;00m))\n",
      "\u001b[0;31mAttributeError\u001b[0m: 'list' object has no attribute 'reshape'"
     ]
    }
   ],
   "source": [
    "fig = study.compare_mutation_profiles(\n",
    "    min_cov = 1000,\n",
    "    sample = ['15_S15_L001', '16_S16_L001', '17_S17_L001.json'],\n",
    "    reference = ['3042-O-flank_1=hp1-DB'],\n",
    "    max_plots = 3,\n",
    "    max_axis = 0.15,\n",
    ")['fig']\n",
    "fig.show()"
   ]
  },
  {
   "cell_type": "code",
   "execution_count": 26,
   "metadata": {},
   "outputs": [
    {
     "ename": "AttributeError",
     "evalue": "'Series' object has no attribute 'index_selected'",
     "output_type": "error",
     "traceback": [
      "\u001b[0;31m---------------------------------------------------------------------------\u001b[0m",
      "\u001b[0;31mAttributeError\u001b[0m                            Traceback (most recent call last)",
      "\u001b[1;32m/Users/casper/Local/HMS/Code/draw/draw/test2.ipynb Cell 6\u001b[0m line \u001b[0;36m1\n\u001b[0;32m----> <a href='vscode-notebook-cell:/Users/casper/Local/HMS/Code/draw/draw/test2.ipynb#W6sZmlsZQ%3D%3D?line=0'>1</a>\u001b[0m fig \u001b[39m=\u001b[39m study\u001b[39m.\u001b[39;49mdeltaG_vs_sub_rate(\n\u001b[1;32m      <a href='vscode-notebook-cell:/Users/casper/Local/HMS/Code/draw/draw/test2.ipynb#W6sZmlsZQ%3D%3D?line=1'>2</a>\u001b[0m     min_cov \u001b[39m=\u001b[39;49m \u001b[39m1000\u001b[39;49m,\n\u001b[1;32m      <a href='vscode-notebook-cell:/Users/casper/Local/HMS/Code/draw/draw/test2.ipynb#W6sZmlsZQ%3D%3D?line=2'>3</a>\u001b[0m     sample \u001b[39m=\u001b[39;49m [\u001b[39m'\u001b[39;49m\u001b[39m15_S15_L001\u001b[39;49m\u001b[39m'\u001b[39;49m],\n\u001b[1;32m      <a href='vscode-notebook-cell:/Users/casper/Local/HMS/Code/draw/draw/test2.ipynb#W6sZmlsZQ%3D%3D?line=3'>4</a>\u001b[0m     reference \u001b[39m=\u001b[39;49m [\u001b[39m'\u001b[39;49m\u001b[39m3042-O-flank_1=hp1-DB\u001b[39;49m\u001b[39m'\u001b[39;49m],\n\u001b[1;32m      <a href='vscode-notebook-cell:/Users/casper/Local/HMS/Code/draw/draw/test2.ipynb#W6sZmlsZQ%3D%3D?line=4'>5</a>\u001b[0m     \u001b[39m# base_index = [1, 2, 3, 4, 5, 6, 7, 8, 9, 10],\u001b[39;49;00m\n\u001b[1;32m      <a href='vscode-notebook-cell:/Users/casper/Local/HMS/Code/draw/draw/test2.ipynb#W6sZmlsZQ%3D%3D?line=5'>6</a>\u001b[0m     base_type\u001b[39m=\u001b[39;49m[\u001b[39m'\u001b[39;49m\u001b[39mA\u001b[39;49m\u001b[39m'\u001b[39;49m,\u001b[39m'\u001b[39;49m\u001b[39mC\u001b[39;49m\u001b[39m'\u001b[39;49m,\u001b[39m'\u001b[39;49m\u001b[39mG\u001b[39;49m\u001b[39m'\u001b[39;49m,\u001b[39m'\u001b[39;49m\u001b[39mT\u001b[39;49m\u001b[39m'\u001b[39;49m]\n\u001b[1;32m      <a href='vscode-notebook-cell:/Users/casper/Local/HMS/Code/draw/draw/test2.ipynb#W6sZmlsZQ%3D%3D?line=6'>7</a>\u001b[0m )[\u001b[39m'\u001b[39m\u001b[39mfig\u001b[39m\u001b[39m'\u001b[39m]\n\u001b[1;32m      <a href='vscode-notebook-cell:/Users/casper/Local/HMS/Code/draw/draw/test2.ipynb#W6sZmlsZQ%3D%3D?line=7'>8</a>\u001b[0m fig\u001b[39m.\u001b[39mshow()\n",
      "File \u001b[0;32m~/Local/HMS/Code/draw/draw/util/misc.py:148\u001b[0m, in \u001b[0;36msave_plot.<locals>.wrapper\u001b[0;34m(*args, **kwargs)\u001b[0m\n\u001b[1;32m    147\u001b[0m \u001b[39mdef\u001b[39;00m \u001b[39mwrapper\u001b[39m(\u001b[39m*\u001b[39margs, \u001b[39m*\u001b[39m\u001b[39m*\u001b[39mkwargs):\n\u001b[0;32m--> 148\u001b[0m     out \u001b[39m=\u001b[39m func(\u001b[39m*\u001b[39;49margs, \u001b[39m*\u001b[39;49m\u001b[39m*\u001b[39;49mkwargs)\n\u001b[1;32m    149\u001b[0m     to_html, to_png \u001b[39m=\u001b[39m kwargs\u001b[39m.\u001b[39mpop(\u001b[39m'\u001b[39m\u001b[39mto_html\u001b[39m\u001b[39m'\u001b[39m, \u001b[39mNone\u001b[39;00m), kwargs\u001b[39m.\u001b[39mpop(\u001b[39m'\u001b[39m\u001b[39mto_png\u001b[39m\u001b[39m'\u001b[39m, \u001b[39mNone\u001b[39;00m)\n\u001b[1;32m    150\u001b[0m     \u001b[39mif\u001b[39;00m to_html:\n",
      "File \u001b[0;32m~/Local/HMS/Code/draw/draw/study.py:241\u001b[0m, in \u001b[0;36mStudy.deltaG_vs_sub_rate\u001b[0;34m(self, **kwargs)\u001b[0m\n\u001b[1;32m    230\u001b[0m \u001b[39m@plot_info\u001b[39m(\u001b[39m'\u001b[39m\u001b[39mdeltaG_vs_sub_rate\u001b[39m\u001b[39m'\u001b[39m, \u001b[39m'\u001b[39m\u001b[39mDelta G vs Substitution Rate\u001b[39m\u001b[39m'\u001b[39m)\n\u001b[1;32m    231\u001b[0m \u001b[39m@save_plot\u001b[39m\n\u001b[1;32m    232\u001b[0m \u001b[39m@doc_inherit\u001b[39m(save_plot, style\u001b[39m=\u001b[39mstyle_child_takes_over_parent)\n\u001b[1;32m    233\u001b[0m \u001b[39m@doc_inherit\u001b[39m(default_arguments_multi_rows, style\u001b[39m=\u001b[39mstyle_child_takes_over_parent)\n\u001b[1;32m    234\u001b[0m \u001b[39mdef\u001b[39;00m \u001b[39mdeltaG_vs_sub_rate\u001b[39m(\u001b[39mself\u001b[39m, \u001b[39m*\u001b[39m\u001b[39m*\u001b[39mkwargs)\u001b[39m-\u001b[39m\u001b[39m>\u001b[39m\u001b[39mdict\u001b[39m:\n\u001b[1;32m    235\u001b[0m \u001b[39m    \u001b[39m\u001b[39m\"\"\"Plot the Mutation fraction of each paired-expected base of the ROI for each reference of a sample, w.r.t the deltaG estimation.\u001b[39;00m\n\u001b[1;32m    236\u001b[0m \n\u001b[1;32m    237\u001b[0m \u001b[39m    Args:\u001b[39;00m\n\u001b[1;32m    238\u001b[0m \u001b[39m        models (List[str], optional): Models to fit on the data using scipy.optimize.curve_fit. Under the form ``'lambda x, a, b: a*x+b'`` where ``x`` is the variable. Defaults to [].\u001b[39;00m\n\u001b[1;32m    239\u001b[0m \n\u001b[1;32m    240\u001b[0m \u001b[39m    \"\"\"\u001b[39;00m\n\u001b[0;32m--> 241\u001b[0m     \u001b[39mreturn\u001b[39;00m \u001b[39mself\u001b[39;49m\u001b[39m.\u001b[39;49mwrap_to_plotter(\n\u001b[1;32m    242\u001b[0m         plotter\u001b[39m.\u001b[39;49mdeltaG_vs_sub_rate,\n\u001b[1;32m    243\u001b[0m         \u001b[39mlocals\u001b[39;49m(),\n\u001b[1;32m    244\u001b[0m         kwargs\n\u001b[1;32m    245\u001b[0m     )\n",
      "File \u001b[0;32m~/Local/HMS/Code/draw/draw/study.py:122\u001b[0m, in \u001b[0;36mStudy.wrap_to_plotter\u001b[0;34m(self, func, loc, kwargs)\u001b[0m\n\u001b[1;32m    116\u001b[0m kwargs \u001b[39m=\u001b[39m {\n\u001b[1;32m    117\u001b[0m         \u001b[39m*\u001b[39m\u001b[39m*\u001b[39m{k:v \u001b[39mfor\u001b[39;00m k,v \u001b[39min\u001b[39;00m loc\u001b[39m.\u001b[39mitems() \u001b[39mif\u001b[39;00m \u001b[39mnot\u001b[39;00m k \u001b[39min\u001b[39;00m [\u001b[39m'\u001b[39m\u001b[39mself\u001b[39m\u001b[39m'\u001b[39m, \u001b[39m'\u001b[39m\u001b[39margs\u001b[39m\u001b[39m'\u001b[39m, \u001b[39m'\u001b[39m\u001b[39mkwargs\u001b[39m\u001b[39m'\u001b[39m]},\n\u001b[1;32m    118\u001b[0m         \u001b[39m*\u001b[39m\u001b[39m*\u001b[39mkwargs\n\u001b[1;32m    119\u001b[0m     }\n\u001b[1;32m    121\u001b[0m \u001b[39m\u001b[39m\u001b[39m\"\"\"Wrapper for the plot functions.\"\"\"\u001b[39;00m\n\u001b[0;32m--> 122\u001b[0m \u001b[39mreturn\u001b[39;00m func(\n\u001b[1;32m    123\u001b[0m     manipulator\u001b[39m.\u001b[39;49mget_df(\u001b[39mself\u001b[39;49m\u001b[39m.\u001b[39;49mdf, \n\u001b[1;32m    124\u001b[0m                         \u001b[39m*\u001b[39;49m\u001b[39m*\u001b[39;49m{k:v \u001b[39mfor\u001b[39;49;00m k,v \u001b[39min\u001b[39;49;00m kwargs\u001b[39m.\u001b[39;49mitems() \u001b[39mif\u001b[39;49;00m k \u001b[39min\u001b[39;49;00m \u001b[39mlist\u001b[39;49m(\u001b[39mself\u001b[39;49m\u001b[39m.\u001b[39;49mdf\u001b[39m.\u001b[39;49mcolumns)\u001b[39m+\u001b[39;49m extract_args(manipulator\u001b[39m.\u001b[39;49mget_df)}), \n\u001b[1;32m    125\u001b[0m                         \u001b[39m*\u001b[39;49m\u001b[39m*\u001b[39;49m{k:v \u001b[39mfor\u001b[39;49;00m k,v \u001b[39min\u001b[39;49;00m kwargs\u001b[39m.\u001b[39;49mitems() \u001b[39mif\u001b[39;49;00m k \u001b[39min\u001b[39;49;00m extract_args(func)})\n",
      "File \u001b[0;32m~/Local/HMS/Code/draw/draw/plotter.py:184\u001b[0m, in \u001b[0;36mdeltaG_vs_sub_rate\u001b[0;34m(df, models, savefile, auto_open, use_iplot, title)\u001b[0m\n\u001b[1;32m    182\u001b[0m df_temp \u001b[39m=\u001b[39m pd\u001b[39m.\u001b[39mDataFrame()\n\u001b[1;32m    183\u001b[0m \u001b[39mfor\u001b[39;00m _, row \u001b[39min\u001b[39;00m df\u001b[39m.\u001b[39miterrows():\n\u001b[0;32m--> 184\u001b[0m     df_temp \u001b[39m=\u001b[39m pd\u001b[39m.\u001b[39mconcat([df_temp, pd\u001b[39m.\u001b[39mDataFrame({\u001b[39m'\u001b[39m\u001b[39mreference\u001b[39m\u001b[39m'\u001b[39m:row\u001b[39m.\u001b[39mreference, \u001b[39m'\u001b[39m\u001b[39mindex\u001b[39m\u001b[39m'\u001b[39m:row\u001b[39m.\u001b[39;49mindex_selected, \u001b[39m'\u001b[39m\u001b[39msub_rate\u001b[39m\u001b[39m'\u001b[39m:row\u001b[39m.\u001b[39msub_rate, \u001b[39m'\u001b[39m\u001b[39mnum_aligned\u001b[39m\u001b[39m'\u001b[39m:row\u001b[39m.\u001b[39mnum_aligned, \u001b[39m'\u001b[39m\u001b[39mdeltaG\u001b[39m\u001b[39m'\u001b[39m:row[\u001b[39m'\u001b[39m\u001b[39mdeltaG\u001b[39m\u001b[39m'\u001b[39m],\u001b[39m'\u001b[39m\u001b[39mbase\u001b[39m\u001b[39m'\u001b[39m:\u001b[39mlist\u001b[39m(row\u001b[39m.\u001b[39msequence), \u001b[39m'\u001b[39m\u001b[39mpaired\u001b[39m\u001b[39m'\u001b[39m:[s \u001b[39m!=\u001b[39m\u001b[39m'\u001b[39m\u001b[39m.\u001b[39m\u001b[39m'\u001b[39m \u001b[39mfor\u001b[39;00m s \u001b[39min\u001b[39;00m row\u001b[39m.\u001b[39mstructure]}, index\u001b[39m=\u001b[39m [i\u001b[39m+\u001b[39m\u001b[39m1\u001b[39m \u001b[39mfor\u001b[39;00m i \u001b[39min\u001b[39;00m \u001b[39mrange\u001b[39m(\u001b[39mlen\u001b[39m(row\u001b[39m.\u001b[39msequence))])])\n\u001b[1;32m    186\u001b[0m \u001b[39massert\u001b[39;00m \u001b[39mlen\u001b[39m(df_temp) \u001b[39m>\u001b[39m \u001b[39m0\u001b[39m, \u001b[39m\"\u001b[39m\u001b[39mNo data to plot\u001b[39m\u001b[39m\"\u001b[39m\n\u001b[1;32m    187\u001b[0m df \u001b[39m=\u001b[39m df_temp\u001b[39m.\u001b[39mreset_index()\n",
      "File \u001b[0;32m~/Local/miniforge3/envs/jptr/lib/python3.11/site-packages/pandas/core/generic.py:5989\u001b[0m, in \u001b[0;36mNDFrame.__getattr__\u001b[0;34m(self, name)\u001b[0m\n\u001b[1;32m   5982\u001b[0m \u001b[39mif\u001b[39;00m (\n\u001b[1;32m   5983\u001b[0m     name \u001b[39mnot\u001b[39;00m \u001b[39min\u001b[39;00m \u001b[39mself\u001b[39m\u001b[39m.\u001b[39m_internal_names_set\n\u001b[1;32m   5984\u001b[0m     \u001b[39mand\u001b[39;00m name \u001b[39mnot\u001b[39;00m \u001b[39min\u001b[39;00m \u001b[39mself\u001b[39m\u001b[39m.\u001b[39m_metadata\n\u001b[1;32m   5985\u001b[0m     \u001b[39mand\u001b[39;00m name \u001b[39mnot\u001b[39;00m \u001b[39min\u001b[39;00m \u001b[39mself\u001b[39m\u001b[39m.\u001b[39m_accessors\n\u001b[1;32m   5986\u001b[0m     \u001b[39mand\u001b[39;00m \u001b[39mself\u001b[39m\u001b[39m.\u001b[39m_info_axis\u001b[39m.\u001b[39m_can_hold_identifiers_and_holds_name(name)\n\u001b[1;32m   5987\u001b[0m ):\n\u001b[1;32m   5988\u001b[0m     \u001b[39mreturn\u001b[39;00m \u001b[39mself\u001b[39m[name]\n\u001b[0;32m-> 5989\u001b[0m \u001b[39mreturn\u001b[39;00m \u001b[39mobject\u001b[39;49m\u001b[39m.\u001b[39;49m\u001b[39m__getattribute__\u001b[39;49m(\u001b[39mself\u001b[39;49m, name)\n",
      "\u001b[0;31mAttributeError\u001b[0m: 'Series' object has no attribute 'index_selected'"
     ]
    }
   ],
   "source": [
    "fig = study.deltaG_vs_sub_rate(\n",
    "    min_cov = 1000,\n",
    "    sample = ['15_S15_L001'],\n",
    "    reference = ['3042-O-flank_1=hp1-DB'],\n",
    "    # base_index = [1, 2, 3, 4, 5, 6, 7, 8, 9, 10],\n",
    "    base_type=['A','C','G','T']\n",
    ")['fig']\n",
    "fig.show()"
   ]
  },
  {
   "cell_type": "code",
   "execution_count": null,
   "metadata": {},
   "outputs": [],
   "source": []
  }
 ],
 "metadata": {
  "kernelspec": {
   "display_name": "Python 3 (ipykernel)",
   "language": "python",
   "name": "python3"
  },
  "language_info": {
   "codemirror_mode": {
    "name": "ipython",
    "version": 3
   },
   "file_extension": ".py",
   "mimetype": "text/x-python",
   "name": "python",
   "nbconvert_exporter": "python",
   "pygments_lexer": "ipython3",
   "version": "3.11.2"
  }
 },
 "nbformat": 4,
 "nbformat_minor": 2
}
