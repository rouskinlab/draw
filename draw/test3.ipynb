{
 "cells": [
  {
   "cell_type": "code",
   "execution_count": null,
   "metadata": {},
   "outputs": [],
   "source": [
    "import os, json, sys\n",
    "sys.path.append(os.path.abspath(os.path.join('..')))\n",
    "import pandas as pd\n",
    "import draw"
   ]
  },
  {
   "cell_type": "code",
   "execution_count": null,
   "metadata": {},
   "outputs": [],
   "source": [
    "data = []\n",
    "paths = [\n",
    "    '/Users/casper/Local/HMS/Code/draw/draw/data/15_S15_L001.json',\n",
    "    '/Users/casper/Local/HMS/Code/draw/draw/data/16_S16_L001.json',\n",
    "    '/Users/casper/Local/HMS/Code/draw/draw/data/17_S17_L001.json',\n",
    "]\n",
    "files = []\n",
    "\n",
    "\n",
    "for path in paths:\n",
    "    with open (path, 'r') as file:\n",
    "        json_data = json.load(file) \n",
    "        data.append(json_data)\n",
    "\n",
    "study = draw.study.Study(data=data)\n",
    "sample, reference, section, family = study.df.iloc[0][['sample', 'reference', 'section', 'family']]\n",
    "\n",
    "column_headers = study.df.columns.tolist()\n",
    "print(column_headers)"
   ]
  },
  {
   "cell_type": "code",
   "execution_count": null,
   "metadata": {},
   "outputs": [],
   "source": [
    "data = study.get_df(\n",
    "    min_cov = 1000,\n",
    "    family = [\"hp4\"],\n",
    "    # sample = ['15_S15_L001', '16_S16_L001'],\n",
    "    reference = ['3078-O-flank_1=hp4-DB', '3079-CC-flank_1=hp4-DB', '3080-O-flank_1=hp4-DB', '3081-CC-flank_1=hp4-DB', '3082-O-flank_1=hp4-DB', '3083-O-flank_1=hp4-DB', '3084-O-flank_1=hp4-DB', '3085-O-flank_1=hp4-DB', '3086-O-flank_1=hp4-DB', '3087-O-flank_1=hp4-DB', '3088-O-flank_1=hp4-DB', '3089-O-flank_1=hp4-DB'],\n",
    "    section = ['full'],\n",
    "    cluster = ['pop_avg'],\n",
    ")\n",
    "# print(data[\"reference\"].unique().tolist())\n",
    "print(f\"df has {len(data)} rows\")"
   ]
  }
 ],
 "metadata": {
  "kernelspec": {
   "display_name": "Python 3 (ipykernel)",
   "language": "python",
   "name": "python3"
  },
  "language_info": {
   "codemirror_mode": {
    "name": "ipython",
    "version": 3
   },
   "file_extension": ".py",
   "mimetype": "text/x-python",
   "name": "python",
   "nbconvert_exporter": "python",
   "pygments_lexer": "ipython3",
   "version": "3.11.2"
  }
 },
 "nbformat": 4,
 "nbformat_minor": 2
}
